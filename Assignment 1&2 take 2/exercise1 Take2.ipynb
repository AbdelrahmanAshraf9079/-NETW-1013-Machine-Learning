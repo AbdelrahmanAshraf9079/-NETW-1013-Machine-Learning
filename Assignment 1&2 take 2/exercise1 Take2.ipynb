{
 "cells": [
  {
   "cell_type": "code",
   "execution_count": 1,
   "metadata": {},
   "outputs": [
    {
     "data": {
      "text/plain": [
       "'C:\\\\Users\\\\abdo\\\\Anaconda Projects\\\\Assignment 1&2 take 2'"
      ]
     },
     "execution_count": 1,
     "metadata": {},
     "output_type": "execute_result"
    }
   ],
   "source": [
    "pwd"
   ]
  },
  {
   "cell_type": "code",
   "execution_count": 2,
   "metadata": {},
   "outputs": [],
   "source": [
    "# used for manipulating directory paths\n",
    "import os\n",
    "\n",
    "# Scientific and vector computation for python\n",
    "import numpy as np\n",
    "\n",
    "# Plotting library\n",
    "from matplotlib import pyplot\n",
    "from mpl_toolkits.mplot3d import Axes3D  # needed to plot 3-D surfaces\n",
    "# tells matplotlib to embed plots within the notebook\n",
    "%matplotlib inline"
   ]
  },
  {
   "cell_type": "code",
   "execution_count": 3,
   "metadata": {},
   "outputs": [],
   "source": [
    "def computeCostMulti(X, y, theta):\n",
    "    \n",
    "    # Initialize some useful values\n",
    "    m = y.shape[0] # number of training examples\n",
    "    \n",
    "    # You need to return the following variable correctly\n",
    "    J = 0\n",
    "    \n",
    "    # ======================= YOUR CODE HERE ===========================\n",
    "    \n",
    "\n",
    "    h = np.dot(X, theta)\n",
    "    \n",
    "    J = (1/(2 * m)) * np.sum(np.square(np.dot(X, theta) - y))\n",
    "    # ==================================================================\n",
    "    return J\n"
   ]
  },
  {
   "cell_type": "code",
   "execution_count": 4,
   "metadata": {},
   "outputs": [],
   "source": [
    "def gradientDescentMulti(X, y, theta, alpha, num_iters):\n",
    "    \n",
    "    # Initialize some useful values\n",
    "    m = y.shape[0] # number of training examples\n",
    "    \n",
    "    # make a copy of theta, which will be updated by gradient descent\n",
    "    theta = theta.copy()\n",
    "    \n",
    "    J_history = []\n",
    "    \n",
    "    for i in range(num_iters):\n",
    "        # ======================= YOUR CODE HERE ==========================\n",
    "\n",
    "        theta = theta - (alpha / m) * (np.dot(X, theta) - y).dot(X)\n",
    "        # =================================================================\n",
    "        \n",
    "        # save the cost J in every iteration\n",
    "        J_history.append(computeCostMulti(X, y, theta))\n",
    "    \n",
    "    return theta, J_history"
   ]
  },
  {
   "cell_type": "code",
   "execution_count": 5,
   "metadata": {},
   "outputs": [
    {
     "data": {
      "text/plain": [
       "(17999, 21)"
      ]
     },
     "execution_count": 5,
     "metadata": {},
     "output_type": "execute_result"
    }
   ],
   "source": [
    "import pandas as pd\n",
    "from sklearn import preprocessing\n",
    "\n",
    "data = pd.read_csv('house_prices_data_training_data.csv')\n",
    "\n",
    "data.dropna(inplace=True)\n",
    "\n",
    "#applying random samples shuffling with this line :\n",
    "#data = data.sample(frac = 1)\n",
    "\n",
    "data.shape"
   ]
  },
  {
   "cell_type": "code",
   "execution_count": 6,
   "metadata": {},
   "outputs": [],
   "source": [
    "X = data.drop(columns = ['date','id','zipcode','price','sqft_lot','condition','yr_built','yr_renovated','long','sqft_lot15'])\n",
    "Y = data['price']\n",
    "\n",
    "\n",
    "#applying different degrees on features \n",
    "\n",
    "X['sqft_living2'] = X['sqft_living']**2\n",
    "X['sqft_above4'] = X['sqft_above']**3\n",
    "X['sqft_living15_5'] = X['sqft_living15']**4\n",
    "X['grade3'] = X['grade']**5\n",
    "X['bathrooms6'] = X['bathrooms']**6\n",
    "\n"
   ]
  },
  {
   "cell_type": "code",
   "execution_count": 7,
   "metadata": {},
   "outputs": [],
   "source": [
    "Y = data['price']\n",
    "X = data.drop(columns = ['price','date','id'])\n",
    "X = X.to_numpy()\n",
    "Y = Y.to_numpy()\n",
    "\n",
    "\n",
    "# Normalization for the features\n",
    "mu = np.mean(X, axis = 0)\n",
    "sigma = np.std(X, axis = 0)\n",
    "X_norm = (X - mu) / sigma\n",
    "\n",
    "\n",
    "# add coloumns of ones to be a bias\n",
    "X = np.concatenate([np.ones((Y.size, 1)), X_norm], axis=1)\n",
    "\n",
    "# 60% training set\n",
    "X_train = X[0:10800,:]\n",
    "Y_train =  Y[0:10800]\n",
    "\n",
    "# 20% cross validation set\n",
    "X_cross = X[10800:14400,:]\n",
    "Y_cross = Y[10800:14400]\n",
    "\n",
    "#20% testing set\n",
    "X_test = X[14400:17999,:]\n",
    "Y_test = Y[14400:17999]\n"
   ]
  },
  {
   "cell_type": "code",
   "execution_count": 8,
   "metadata": {
    "scrolled": true
   },
   "outputs": [
    {
     "name": "stdout",
     "output_type": "stream",
     "text": [
      "theta computed from gradient descent: [532874.47774097 -40059.72872569  30582.92310628  92495.97041673\n",
      "  -2114.20815316  -4791.80264705  60047.79625344  41041.38065981\n",
      "  15688.8832043  109518.47586743  88651.5351083   26917.3716162\n",
      " -84165.01854989   7531.80262209 -31687.98248643  81309.81910177\n",
      " -24795.84983525]\n"
     ]
    },
    {
     "data": {
      "image/png": "[encoded data removed]",
      "text/plain": [
       "<Figure size 432x288 with 1 Axes>"
      ]
     },
     "metadata": {
      "needs_background": "light"
     },
     "output_type": "display_data"
    }
   ],
   "source": [
    "# Choose some alpha value - change this\n",
    "alpha = 0.1\n",
    "num_iters = 400\n",
    "\n",
    "# Training models with different degrees from 1 to 6\n",
    "\n",
    "# init theta and run gradient descent\n",
    "theta = np.zeros(X_train[:,0:17].shape[1])\n",
    "\n",
    "\n",
    "theta, J_history = gradientDescentMulti(X_train[:,0:17], Y_train, theta, alpha, num_iters)\n",
    "\n",
    "# Plot the convergence graph\n",
    "pyplot.plot(np.arange(len(J_history)), J_history, lw=2)\n",
    "pyplot.xlabel('Number of iterations')\n",
    "pyplot.ylabel('Cost J')\n",
    "\n",
    "# Display the gradient descent's result\n",
    "print('theta computed from gradient descent: {:s}'.format(str(theta)))\n"
   ]
  },
  {
   "cell_type": "code",
   "execution_count": 29,
   "metadata": {},
   "outputs": [
    {
     "name": "stdout",
     "output_type": "stream",
     "text": [
      "CV =  18937208361.916862\n"
     ]
    }
   ],
   "source": [
    "print('CV = ',computeCostMulti(X_cross[:,0:17],Y_cross,theta))"
   ]
  },
  {
   "cell_type": "code",
   "execution_count": 30,
   "metadata": {},
   "outputs": [
    {
     "name": "stdout",
     "output_type": "stream",
     "text": [
      "TEST =  18031392022.849525\n"
     ]
    }
   ],
   "source": [
    "print('TEST = ',computeCostMulti(X_test[:,0:17],Y_test,theta))"
   ]
  },
  {
   "cell_type": "code",
   "execution_count": 12,
   "metadata": {},
   "outputs": [
    {
     "data": {
      "text/plain": [
       "array([765000., 550000., 974350., 653675., 245000.])"
      ]
     },
     "execution_count": 12,
     "metadata": {},
     "output_type": "execute_result"
    }
   ],
   "source": [
    "Y_test[10:15]"
   ]
  },
  {
   "cell_type": "code",
   "execution_count": 27,
   "metadata": {},
   "outputs": [],
   "source": [
    "#K-fold\n",
    "\n",
    "# K will be set to 5 \n",
    "#so we will divide the dataset to 5 sample sets \n",
    "\n",
    "S1 = X[0:3600,:]\n",
    "S2 = X[3600:7200,:]\n",
    "S3 = X[7200:10800,:]\n",
    "S4 = X[10800:14400,:]\n",
    "S5 = X[14400:18000,:]"
   ]
  },
  {
   "cell_type": "code",
   "execution_count": 14,
   "metadata": {
    "scrolled": true
   },
   "outputs": [
    {
     "name": "stdout",
     "output_type": "stream",
     "text": [
      "theta computed from gradient descent: [530267.89302058 -18822.46711488  39177.20956696  56689.66427538\n",
      "   6095.01586102   6923.75583704  34027.43888696  47486.67453691\n",
      "  26401.50760826 103536.55403346  53079.35514439  18744.75262757\n",
      " -75890.46925776   4881.96584167 -29002.06174351  83716.13122268\n",
      " -27406.50090355  41924.56708605  -8390.04399887]\n"
     ]
    },
    {
     "data": {
      "image/png": "[encoded data removed]",
      "text/plain": [
       "<Figure size 432x288 with 1 Axes>"
      ]
     },
     "metadata": {
      "needs_background": "light"
     },
     "output_type": "display_data"
    }
   ],
   "source": [
    "# Choose some alpha value - change this\n",
    "alpha = 0.1\n",
    "num_iters = 400\n",
    "\n",
    "# Training the model with 4 samples of the dataset and testing on 1 sample\n",
    "\n",
    "# init theta and run gradient descent\n",
    "theta = np.zeros(S1.shape[1])\n",
    "\n",
    "theta1,J_history1 = gradientDescentMulti(S2, Y[3600:7200], theta, alpha, num_iters)\n",
    "theta2,J_history2 = gradientDescentMulti(S3, Y[7200:10800], theta1, alpha, num_iters)\n",
    "theta3,J_history3 = gradientDescentMulti(S4, Y[10800:14400], theta2, alpha, num_iters)\n",
    "theta4,J_history4 = gradientDescentMulti(S5, Y[14400:18000], theta3, alpha, num_iters)\n",
    "\n",
    "\n",
    "# Plot the convergence graph\n",
    "pyplot.plot(np.arange(len(J_history4)), J_history4, lw=2)\n",
    "pyplot.xlabel('Number of iterations')\n",
    "pyplot.ylabel('Cost J')\n",
    "\n",
    "# Display the gradient descent's result\n",
    "print('theta computed from gradient descent: {:s}'.format(str(theta4)))\n",
    "\n",
    "\n",
    "# saving the last values of theta to be used in the next training iteration\n",
    "theta=theta4"
   ]
  },
  {
   "cell_type": "code",
   "execution_count": 15,
   "metadata": {},
   "outputs": [
    {
     "name": "stdout",
     "output_type": "stream",
     "text": [
      "the test sample cost =  21184492468.779766\n"
     ]
    }
   ],
   "source": [
    "print('the test sample cost = ', computeCostMulti(S1,Y[0:3600],theta4))"
   ]
  },
  {
   "cell_type": "code",
   "execution_count": 16,
   "metadata": {},
   "outputs": [],
   "source": [
    "## Regularization\n",
    "\n",
    "## Creating Regularization functions\n",
    "\n",
    "def gradientDescentRegularization(X, y, theta, alpha, num_iters,lambda_):\n",
    "    \n",
    "    # Initialize some useful values\n",
    "    m = y.shape[0] # number of training examples\n",
    "    \n",
    "    # make a copy of theta, which will be updated by gradient descent\n",
    "    theta = theta.copy()\n",
    "    \n",
    "    J_history = []\n",
    "    \n",
    "    for i in range(num_iters):\n",
    "\n",
    "        theta = theta - (alpha / m) * (((np.dot(X, theta) - y).dot(X)) + (lambda_*theta))\n",
    "        # =================================================================\n",
    "        \n",
    "        # save the cost J in every iteration\n",
    "        J_history.append(computeCostMulti(X, y, theta))\n",
    "    \n",
    "    return theta, J_history\n",
    "\n",
    "def computeCostRegularization(X, y, theta,lambda_):\n",
    "    \n",
    "    # Initialize some useful values\n",
    "    m = y.shape[0] # number of training examples\n",
    "    \n",
    "    # You need to return the following variable correctly\n",
    "    J = 0        \n",
    "    h = np.dot(X, theta)\n",
    "    \n",
    "    J = (1/(2 * m)) * np.sum(np.square(np.dot(X, theta) - y)) + ((lambda_/2*m)*np.sum(np.square(theta)))\n",
    "    return J\n"
   ]
  },
  {
   "cell_type": "code",
   "execution_count": 17,
   "metadata": {},
   "outputs": [
    {
     "name": "stdout",
     "output_type": "stream",
     "text": [
      "18937756247.515877\n",
      "6077063518959.113\n",
      "30309337291646.06\n",
      "60599163639835.836\n",
      "302897141323682.6\n",
      "605718038452755.8\n",
      "3026223819932053.0\n",
      "6046710316890518.0\n"
     ]
    }
   ],
   "source": [
    "# training each model of different degrees from 1 to 6 with all the set of lambdas\n",
    "\n",
    "lambda_ = [0,0.01,0.05,0.1,0.5,1,5,10]\n",
    "\n",
    "for i in range(len(lambda_)):\n",
    "    \n",
    "    theta = np.zeros(X_train[:,0:17].shape[1])\n",
    "\n",
    "    theta, J_history = gradientDescentRegularization(X_train[:,0:17], Y_train, theta, alpha, num_iters,lambda_[i])\n",
    "    \n",
    "    print(computeCostRegularization(X_cross[:,0:17],Y_cross,theta,lambda_[i]))"
   ]
  },
  {
   "cell_type": "code",
   "execution_count": null,
   "metadata": {},
   "outputs": [],
   "source": []
  }
 ],
 "metadata": {
  "kernelspec": {
   "display_name": "Python 3",
   "language": "python",
   "name": "python3"
  },
  "language_info": {
   "codemirror_mode": {
    "name": "ipython",
    "version": 3
   },
   "file_extension": ".py",
   "mimetype": "text/x-python",
   "name": "python",
   "nbconvert_exporter": "python",
   "pygments_lexer": "ipython3",
   "version": "3.8.5"
  }
 },
 "nbformat": 4,
 "nbformat_minor": 2
}
